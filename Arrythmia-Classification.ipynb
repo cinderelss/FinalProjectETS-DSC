{
  "nbformat": 4,
  "nbformat_minor": 0,
  "metadata": {
    "colab": {
      "provenance": []
    },
    "kernelspec": {
      "name": "python3",
      "display_name": "Python 3"
    },
    "language_info": {
      "name": "python"
    }
  },
  "cells": [
    {
      "cell_type": "code",
      "execution_count": null,
      "metadata": {
        "id": "-5X4HZhd3_hW"
      },
      "outputs": [],
      "source": [
        "import numpy as np\n",
        "import matplotlib.pyplot as plt\n",
        "import pandas as pd"
      ]
    },
    {
      "cell_type": "code",
      "source": [
        "data = pd.read_csv('training_arrhytmia.dat', sep =' ', dtype = np.float32)\n",
        "data = data.dropna(axis=1)\n",
        "data = data.drop(data.columns[0], axis = 1)\n",
        "data.columns = ['RR', 'QRSD']\n",
        "\n",
        "test = pd.read_csv('recall_arrhytmia.dat', sep ='  ', dtype = np.float32)\n",
        "test = test.dropna(axis=1)\n",
        "test = test.drop(test.columns[0], axis = 1)\n",
        "test.columns = ['RR', 'QRSD']"
      ],
      "metadata": {
        "colab": {
          "base_uri": "https://localhost:8080/"
        },
        "id": "sWrc_xlT4Sv0",
        "outputId": "3ee4a200-5d6d-4c90-c1bf-ff1e05b5a873"
      },
      "execution_count": null,
      "outputs": [
        {
          "output_type": "stream",
          "name": "stderr",
          "text": [
            "<ipython-input-319-ffbc2761f41d>:6: ParserWarning: Falling back to the 'python' engine because the 'c' engine does not support regex separators (separators > 1 char and different from '\\s+' are interpreted as regex); you can avoid this warning by specifying engine='python'.\n",
            "  test = pd.read_csv('recall_arrhytmia.dat', sep ='  ', dtype = np.float32)\n"
          ]
        }
      ]
    },
    {
      "cell_type": "code",
      "source": [
        "#Fungsi sigmoid\n",
        "def sigmoidf(value):\n",
        "  return 1/ (1 + np.exp(-value))\n",
        "\n",
        "#Menentukan region\n",
        "def clustering(input):\n",
        "  label = np.identity(7)\n",
        "  region = ['' for i in range(len(input))]\n",
        "  count = 0\n",
        "  for i in input:\n",
        "    if np.argmax(i) == np.argmax(label[0]):\n",
        "      region[count] = 'Normal'\n",
        "    elif np.argmax(i) == np.argmax(label[1]):\n",
        "      region[count] = 'Region 1'\n",
        "    elif np.argmax(i) == np.argmax(label[2]):\n",
        "      region[count] = 'Region 2'\n",
        "    elif np.argmax(i) == np.argmax(label[3]):\n",
        "      region[count] = 'Region 3'\n",
        "    elif np.argmax(i) == np.argmax(label[4]):\n",
        "      region[count] = 'Region 4'\n",
        "    elif np.argmax(i) == np.argmax(label[5]):\n",
        "      region[count] = 'Region 5'\n",
        "    elif np.argmax(i) == np.argmax(label[6]):\n",
        "      region[count] = 'Region 6'\n",
        "\n",
        "    count += 1\n",
        "  return region\n",
        "\n",
        "#menerjemahkan \n",
        "def transform_numeric(input, state = 0):\n",
        "  label = np.identity(7)\n",
        "  count = 0\n",
        "\n",
        "  if state == 0:\n",
        "    region = np.zeros(len(input))\n",
        "    for i in input:\n",
        "      if np.argmax(i) == np.argmax(label[0]):\n",
        "        region[count] = 0.1\n",
        "      elif np.argmax(i) == np.argmax(label[1]):\n",
        "        region[count] = 0.2\n",
        "      elif np.argmax(i) == np.argmax(label[2]):\n",
        "        region[count] = 0.3\n",
        "      elif np.argmax(i) == np.argmax(label[3]):\n",
        "        region[count] = 0.4\n",
        "      elif np.argmax(i) == np.argmax(label[4]):\n",
        "        region[count] = 0.5\n",
        "      elif np.argmax(i) == np.argmax(label[5]):\n",
        "        region[count] = 0.6\n",
        "      elif np.argmax(i) == np.argmax(label[6]):\n",
        "        region[count] = 0.7\n",
        "      \n",
        "      count += 1\n",
        "  \n",
        "  elif state == 1:\n",
        "    region = np.zeros(len(input), 7)\n",
        "    for i in input:\n",
        "      if 0 < input[count] and input[count] <= 0.1:\n",
        "        region[count] = label[0]\n",
        "      elif 0.1 < input[count] and input[count] <= 0.2:\n",
        "        region[count] = label[1]\n",
        "      elif 0.2 < input[count] and input[count] <= 0.3:\n",
        "        region[count] = label[2]\n",
        "      elif 0.3 < input[count] and input[count] <= 0.4:\n",
        "        region[count] = label[3]\n",
        "      elif 0.4 < input[count] and input[count] <= 0.5:\n",
        "        region[count] = label[4]\n",
        "      elif 0.5 < input[count] and input[count] <= 0.6:\n",
        "        region[count] = label[5]\n",
        "      elif 0.6 < input[count] and input[count] <= 0.7:\n",
        "        region[count] = label[6]\n",
        "      \n",
        "      count += 1\n",
        "    return region\n"
      ],
      "metadata": {
        "id": "dJcEz-mH4S79"
      },
      "execution_count": null,
      "outputs": []
    },
    {
      "cell_type": "code",
      "source": [
        "rr = data.iloc[:, 0].values\n",
        "qrsd = data.iloc[:, 1].values"
      ],
      "metadata": {
        "id": "juo_oiVI4S45"
      },
      "execution_count": null,
      "outputs": []
    },
    {
      "cell_type": "code",
      "source": [
        "labels = np.zeros((len(qrsd), 7))"
      ],
      "metadata": {
        "id": "uMvQL8fG4S-K"
      },
      "execution_count": null,
      "outputs": []
    },
    {
      "cell_type": "code",
      "source": [
        "labels"
      ],
      "metadata": {
        "colab": {
          "base_uri": "https://localhost:8080/"
        },
        "id": "rC1RYO15NldJ",
        "outputId": "a112f938-d33b-45e5-a317-30668537cacc"
      },
      "execution_count": null,
      "outputs": [
        {
          "output_type": "execute_result",
          "data": {
            "text/plain": [
              "array([[0., 0., 0., ..., 0., 0., 0.],\n",
              "       [0., 0., 0., ..., 0., 0., 0.],\n",
              "       [0., 0., 0., ..., 0., 0., 0.],\n",
              "       ...,\n",
              "       [0., 0., 0., ..., 0., 0., 0.],\n",
              "       [0., 0., 0., ..., 0., 0., 0.],\n",
              "       [0., 0., 0., ..., 0., 0., 0.]])"
            ]
          },
          "metadata": {},
          "execution_count": 323
        }
      ]
    },
    {
      "cell_type": "code",
      "source": [
        "count = 0\n",
        "for i, j in zip(rr, qrsd):\n",
        "    # Normal\n",
        "    if (0.6 <= i and i <= 1.2) and (80 <= j and j <= 97.5):\n",
        "        labels[count, 0] = 1.0\n",
        "    # Region 1\n",
        "    elif  i < 0.32:\n",
        "        labels[count, 1] = 1.0\n",
        "    # Region 2\n",
        "    elif (80 <= j and j < 95) and (0.32 < i and i < 0.60):\n",
        "        labels[count, 2] = 1.0\n",
        "    # Region 3\n",
        "    elif (j >= 95) and (0.32 < i and i < 0.60):\n",
        "        labels[count, 3] = 1.0\n",
        "    # Region 4\n",
        "    elif (0.6 <= i and i <= 1.2) and (j > 97.5):\n",
        "        labels[count, 4] = 1.0\n",
        "    # Region 5\n",
        "    elif 1.2 < i and i < 1.66:\n",
        "        labels[count, 5] = 1.0\n",
        "    # Region 6\n",
        "    elif i > 1.66:\n",
        "        labels[count, 6] = 1.0\n",
        "        \n",
        "    count += 1   "
      ],
      "metadata": {
        "id": "zI7OYh9X4TAo"
      },
      "execution_count": null,
      "outputs": []
    },
    {
      "cell_type": "code",
      "source": [
        "cluster = clustering(labels)"
      ],
      "metadata": {
        "id": "k4GO2WVV4TDw"
      },
      "execution_count": null,
      "outputs": []
    },
    {
      "cell_type": "code",
      "source": [
        "data['Normal'] = labels[:, 0].T\n",
        "data['Region 1'] = labels[:, 1].T\n",
        "data['Region 2'] = labels[:, 2].T\n",
        "data['Region 3'] = labels[:, 3].T\n",
        "data['Region 4'] = labels[:, 4].T\n",
        "data['Region 5'] = labels[:, 5].T\n",
        "data['Region 6'] = labels[:, 6].T\n",
        "data['Cluster'] = cluster\n",
        "data"
      ],
      "metadata": {
        "colab": {
          "base_uri": "https://localhost:8080/",
          "height": 423
        },
        "id": "HlMdYtoD4TF_",
        "outputId": "7df413d9-429e-45a5-e244-a744c49576b9"
      },
      "execution_count": null,
      "outputs": [
        {
          "output_type": "execute_result",
          "data": {
            "text/plain": [
              "        RR        QRSD  Normal  Region 1  Region 2  Region 3  Region 4  \\\n",
              "0     0.93   88.199997     1.0       0.0       0.0       0.0       0.0   \n",
              "1     0.86   87.139999     1.0       0.0       0.0       0.0       0.0   \n",
              "2     0.83   89.550003     1.0       0.0       0.0       0.0       0.0   \n",
              "3     0.96   91.669998     1.0       0.0       0.0       0.0       0.0   \n",
              "4     0.94   91.650002     1.0       0.0       0.0       0.0       0.0   \n",
              "...    ...         ...     ...       ...       ...       ...       ...   \n",
              "7795  2.04  113.389999     0.0       0.0       0.0       0.0       0.0   \n",
              "7796  2.01  111.489998     0.0       0.0       0.0       0.0       0.0   \n",
              "7797  2.05  116.750000     0.0       0.0       0.0       0.0       0.0   \n",
              "7798  1.98  116.750000     0.0       0.0       0.0       0.0       0.0   \n",
              "7799  1.88  106.540001     0.0       0.0       0.0       0.0       0.0   \n",
              "\n",
              "      Region 5  Region 6  Category   Cluster  \n",
              "0          0.0       0.0    Normal    Normal  \n",
              "1          0.0       0.0    Normal    Normal  \n",
              "2          0.0       0.0    Normal    Normal  \n",
              "3          0.0       0.0    Normal    Normal  \n",
              "4          0.0       0.0    Normal    Normal  \n",
              "...        ...       ...       ...       ...  \n",
              "7795       0.0       1.0  Region 6  Region 6  \n",
              "7796       0.0       1.0  Region 6  Region 6  \n",
              "7797       0.0       1.0  Region 6  Region 6  \n",
              "7798       0.0       1.0  Region 6  Region 6  \n",
              "7799       0.0       1.0  Region 6  Region 6  \n",
              "\n",
              "[7800 rows x 11 columns]"
            ],
            "text/html": [
              "\n",
              "  <div id=\"df-5aaccc6e-d386-4d2f-a5a7-b7358e7e0882\">\n",
              "    <div class=\"colab-df-container\">\n",
              "      <div>\n",
              "<style scoped>\n",
              "    .dataframe tbody tr th:only-of-type {\n",
              "        vertical-align: middle;\n",
              "    }\n",
              "\n",
              "    .dataframe tbody tr th {\n",
              "        vertical-align: top;\n",
              "    }\n",
              "\n",
              "    .dataframe thead th {\n",
              "        text-align: right;\n",
              "    }\n",
              "</style>\n",
              "<table border=\"1\" class=\"dataframe\">\n",
              "  <thead>\n",
              "    <tr style=\"text-align: right;\">\n",
              "      <th></th>\n",
              "      <th>RR</th>\n",
              "      <th>QRSD</th>\n",
              "      <th>Normal</th>\n",
              "      <th>Region 1</th>\n",
              "      <th>Region 2</th>\n",
              "      <th>Region 3</th>\n",
              "      <th>Region 4</th>\n",
              "      <th>Region 5</th>\n",
              "      <th>Region 6</th>\n",
              "      <th>Category</th>\n",
              "      <th>Cluster</th>\n",
              "    </tr>\n",
              "  </thead>\n",
              "  <tbody>\n",
              "    <tr>\n",
              "      <th>0</th>\n",
              "      <td>0.93</td>\n",
              "      <td>88.199997</td>\n",
              "      <td>1.0</td>\n",
              "      <td>0.0</td>\n",
              "      <td>0.0</td>\n",
              "      <td>0.0</td>\n",
              "      <td>0.0</td>\n",
              "      <td>0.0</td>\n",
              "      <td>0.0</td>\n",
              "      <td>Normal</td>\n",
              "      <td>Normal</td>\n",
              "    </tr>\n",
              "    <tr>\n",
              "      <th>1</th>\n",
              "      <td>0.86</td>\n",
              "      <td>87.139999</td>\n",
              "      <td>1.0</td>\n",
              "      <td>0.0</td>\n",
              "      <td>0.0</td>\n",
              "      <td>0.0</td>\n",
              "      <td>0.0</td>\n",
              "      <td>0.0</td>\n",
              "      <td>0.0</td>\n",
              "      <td>Normal</td>\n",
              "      <td>Normal</td>\n",
              "    </tr>\n",
              "    <tr>\n",
              "      <th>2</th>\n",
              "      <td>0.83</td>\n",
              "      <td>89.550003</td>\n",
              "      <td>1.0</td>\n",
              "      <td>0.0</td>\n",
              "      <td>0.0</td>\n",
              "      <td>0.0</td>\n",
              "      <td>0.0</td>\n",
              "      <td>0.0</td>\n",
              "      <td>0.0</td>\n",
              "      <td>Normal</td>\n",
              "      <td>Normal</td>\n",
              "    </tr>\n",
              "    <tr>\n",
              "      <th>3</th>\n",
              "      <td>0.96</td>\n",
              "      <td>91.669998</td>\n",
              "      <td>1.0</td>\n",
              "      <td>0.0</td>\n",
              "      <td>0.0</td>\n",
              "      <td>0.0</td>\n",
              "      <td>0.0</td>\n",
              "      <td>0.0</td>\n",
              "      <td>0.0</td>\n",
              "      <td>Normal</td>\n",
              "      <td>Normal</td>\n",
              "    </tr>\n",
              "    <tr>\n",
              "      <th>4</th>\n",
              "      <td>0.94</td>\n",
              "      <td>91.650002</td>\n",
              "      <td>1.0</td>\n",
              "      <td>0.0</td>\n",
              "      <td>0.0</td>\n",
              "      <td>0.0</td>\n",
              "      <td>0.0</td>\n",
              "      <td>0.0</td>\n",
              "      <td>0.0</td>\n",
              "      <td>Normal</td>\n",
              "      <td>Normal</td>\n",
              "    </tr>\n",
              "    <tr>\n",
              "      <th>...</th>\n",
              "      <td>...</td>\n",
              "      <td>...</td>\n",
              "      <td>...</td>\n",
              "      <td>...</td>\n",
              "      <td>...</td>\n",
              "      <td>...</td>\n",
              "      <td>...</td>\n",
              "      <td>...</td>\n",
              "      <td>...</td>\n",
              "      <td>...</td>\n",
              "      <td>...</td>\n",
              "    </tr>\n",
              "    <tr>\n",
              "      <th>7795</th>\n",
              "      <td>2.04</td>\n",
              "      <td>113.389999</td>\n",
              "      <td>0.0</td>\n",
              "      <td>0.0</td>\n",
              "      <td>0.0</td>\n",
              "      <td>0.0</td>\n",
              "      <td>0.0</td>\n",
              "      <td>0.0</td>\n",
              "      <td>1.0</td>\n",
              "      <td>Region 6</td>\n",
              "      <td>Region 6</td>\n",
              "    </tr>\n",
              "    <tr>\n",
              "      <th>7796</th>\n",
              "      <td>2.01</td>\n",
              "      <td>111.489998</td>\n",
              "      <td>0.0</td>\n",
              "      <td>0.0</td>\n",
              "      <td>0.0</td>\n",
              "      <td>0.0</td>\n",
              "      <td>0.0</td>\n",
              "      <td>0.0</td>\n",
              "      <td>1.0</td>\n",
              "      <td>Region 6</td>\n",
              "      <td>Region 6</td>\n",
              "    </tr>\n",
              "    <tr>\n",
              "      <th>7797</th>\n",
              "      <td>2.05</td>\n",
              "      <td>116.750000</td>\n",
              "      <td>0.0</td>\n",
              "      <td>0.0</td>\n",
              "      <td>0.0</td>\n",
              "      <td>0.0</td>\n",
              "      <td>0.0</td>\n",
              "      <td>0.0</td>\n",
              "      <td>1.0</td>\n",
              "      <td>Region 6</td>\n",
              "      <td>Region 6</td>\n",
              "    </tr>\n",
              "    <tr>\n",
              "      <th>7798</th>\n",
              "      <td>1.98</td>\n",
              "      <td>116.750000</td>\n",
              "      <td>0.0</td>\n",
              "      <td>0.0</td>\n",
              "      <td>0.0</td>\n",
              "      <td>0.0</td>\n",
              "      <td>0.0</td>\n",
              "      <td>0.0</td>\n",
              "      <td>1.0</td>\n",
              "      <td>Region 6</td>\n",
              "      <td>Region 6</td>\n",
              "    </tr>\n",
              "    <tr>\n",
              "      <th>7799</th>\n",
              "      <td>1.88</td>\n",
              "      <td>106.540001</td>\n",
              "      <td>0.0</td>\n",
              "      <td>0.0</td>\n",
              "      <td>0.0</td>\n",
              "      <td>0.0</td>\n",
              "      <td>0.0</td>\n",
              "      <td>0.0</td>\n",
              "      <td>1.0</td>\n",
              "      <td>Region 6</td>\n",
              "      <td>Region 6</td>\n",
              "    </tr>\n",
              "  </tbody>\n",
              "</table>\n",
              "<p>7800 rows × 11 columns</p>\n",
              "</div>\n",
              "      <button class=\"colab-df-convert\" onclick=\"convertToInteractive('df-5aaccc6e-d386-4d2f-a5a7-b7358e7e0882')\"\n",
              "              title=\"Convert this dataframe to an interactive table.\"\n",
              "              style=\"display:none;\">\n",
              "        \n",
              "  <svg xmlns=\"http://www.w3.org/2000/svg\" height=\"24px\"viewBox=\"0 0 24 24\"\n",
              "       width=\"24px\">\n",
              "    <path d=\"M0 0h24v24H0V0z\" fill=\"none\"/>\n",
              "    <path d=\"M18.56 5.44l.94 2.06.94-2.06 2.06-.94-2.06-.94-.94-2.06-.94 2.06-2.06.94zm-11 1L8.5 8.5l.94-2.06 2.06-.94-2.06-.94L8.5 2.5l-.94 2.06-2.06.94zm10 10l.94 2.06.94-2.06 2.06-.94-2.06-.94-.94-2.06-.94 2.06-2.06.94z\"/><path d=\"M17.41 7.96l-1.37-1.37c-.4-.4-.92-.59-1.43-.59-.52 0-1.04.2-1.43.59L10.3 9.45l-7.72 7.72c-.78.78-.78 2.05 0 2.83L4 21.41c.39.39.9.59 1.41.59.51 0 1.02-.2 1.41-.59l7.78-7.78 2.81-2.81c.8-.78.8-2.07 0-2.86zM5.41 20L4 18.59l7.72-7.72 1.47 1.35L5.41 20z\"/>\n",
              "  </svg>\n",
              "      </button>\n",
              "      \n",
              "  <style>\n",
              "    .colab-df-container {\n",
              "      display:flex;\n",
              "      flex-wrap:wrap;\n",
              "      gap: 12px;\n",
              "    }\n",
              "\n",
              "    .colab-df-convert {\n",
              "      background-color: #E8F0FE;\n",
              "      border: none;\n",
              "      border-radius: 50%;\n",
              "      cursor: pointer;\n",
              "      display: none;\n",
              "      fill: #1967D2;\n",
              "      height: 32px;\n",
              "      padding: 0 0 0 0;\n",
              "      width: 32px;\n",
              "    }\n",
              "\n",
              "    .colab-df-convert:hover {\n",
              "      background-color: #E2EBFA;\n",
              "      box-shadow: 0px 1px 2px rgba(60, 64, 67, 0.3), 0px 1px 3px 1px rgba(60, 64, 67, 0.15);\n",
              "      fill: #174EA6;\n",
              "    }\n",
              "\n",
              "    [theme=dark] .colab-df-convert {\n",
              "      background-color: #3B4455;\n",
              "      fill: #D2E3FC;\n",
              "    }\n",
              "\n",
              "    [theme=dark] .colab-df-convert:hover {\n",
              "      background-color: #434B5C;\n",
              "      box-shadow: 0px 1px 3px 1px rgba(0, 0, 0, 0.15);\n",
              "      filter: drop-shadow(0px 1px 2px rgba(0, 0, 0, 0.3));\n",
              "      fill: #FFFFFF;\n",
              "    }\n",
              "  </style>\n",
              "\n",
              "      <script>\n",
              "        const buttonEl =\n",
              "          document.querySelector('#df-5aaccc6e-d386-4d2f-a5a7-b7358e7e0882 button.colab-df-convert');\n",
              "        buttonEl.style.display =\n",
              "          google.colab.kernel.accessAllowed ? 'block' : 'none';\n",
              "\n",
              "        async function convertToInteractive(key) {\n",
              "          const element = document.querySelector('#df-5aaccc6e-d386-4d2f-a5a7-b7358e7e0882');\n",
              "          const dataTable =\n",
              "            await google.colab.kernel.invokeFunction('convertToInteractive',\n",
              "                                                     [key], {});\n",
              "          if (!dataTable) return;\n",
              "\n",
              "          const docLinkHtml = 'Like what you see? Visit the ' +\n",
              "            '<a target=\"_blank\" href=https://colab.research.google.com/notebooks/data_table.ipynb>data table notebook</a>'\n",
              "            + ' to learn more about interactive tables.';\n",
              "          element.innerHTML = '';\n",
              "          dataTable['output_type'] = 'display_data';\n",
              "          await google.colab.output.renderOutput(dataTable, element);\n",
              "          const docLink = document.createElement('div');\n",
              "          docLink.innerHTML = docLinkHtml;\n",
              "          element.appendChild(docLink);\n",
              "        }\n",
              "      </script>\n",
              "    </div>\n",
              "  </div>\n",
              "  "
            ]
          },
          "metadata": {},
          "execution_count": 336
        }
      ]
    },
    {
      "cell_type": "code",
      "source": [
        "X_train = data.iloc[:, :2].values\n",
        "Y_train = data.iloc[:, 2:-1].values"
      ],
      "metadata": {
        "id": "dGGBq2Kr4TJI"
      },
      "execution_count": null,
      "outputs": []
    },
    {
      "cell_type": "code",
      "source": [
        "from sklearn.utils import shuffle\n",
        "X_train, Y_train = shuffle(X_train, Y_train)"
      ],
      "metadata": {
        "id": "baf-nrK74TLf"
      },
      "execution_count": null,
      "outputs": []
    },
    {
      "cell_type": "code",
      "source": [
        "from matplotlib.colors import ListedColormap\n",
        "X_set, Y_set = X_train, transform_numeric(Y_train)\n",
        "\n",
        "for i, j in enumerate(np.unique(Y_set)):\n",
        "    plt.scatter(X_set[Y_set == j, 0], X_set[Y_set == j, 1], c= ListedColormap(('red', 'green', 'blue', 'yellow', 'grey', 'black', 'purple'))(i), label = j)\n",
        "\n",
        "plt.legend()\n",
        "plt.grid()"
      ],
      "metadata": {
        "colab": {
          "base_uri": "https://localhost:8080/",
          "height": 502
        },
        "id": "U4QRcmBf4TOH",
        "outputId": "edac3517-a0a0-40e9-c699-e37b4fd90792"
      },
      "execution_count": null,
      "outputs": [
        {
          "output_type": "stream",
          "name": "stderr",
          "text": [
            "<ipython-input-329-da1244b32aad>:5: UserWarning: *c* argument looks like a single numeric RGB or RGBA sequence, which should be avoided as value-mapping will have precedence in case its length matches with *x* & *y*.  Please use the *color* keyword-argument or provide a 2D array with a single row if you intend to specify the same RGB or RGBA value for all points.\n",
            "  plt.scatter(X_set[Y_set == j, 0], X_set[Y_set == j, 1], c= ListedColormap(('red', 'green', 'blue', 'yellow', 'grey', 'black', 'purple'))(i), label = j)\n",
            "WARNING:matplotlib.legend:No artists with labels found to put in legend.  Note that artists whose label start with an underscore are ignored when legend() is called with no argument.\n"
          ]
        },
        {
          "output_type": "display_data",
          "data": {
            "text/plain": [
              "<Figure size 640x480 with 1 Axes>"
            ],
            "image/png": "[encoded data removed]"
          },
          "metadata": {}
        }
      ]
    },
    {
      "cell_type": "code",
      "source": [
        "from sklearn.preprocessing import StandardScaler\n",
        "sc = StandardScaler()\n",
        "X_train = sc.fit_transform(X_train)"
      ],
      "metadata": {
        "id": "QR4qu2v84TR1"
      },
      "execution_count": null,
      "outputs": []
    },
    {
      "cell_type": "code",
      "source": [
        "w_i_h1 = np.random.uniform(-1, 1, (20, 2))\n",
        "w_h1_h2 = np.random.uniform(-1, 1, (10, 20))\n",
        "w_h2_o = np.random.uniform(-1, 1, (7, 10))\n",
        "b_i_h1 = np.zeros((20, 1))\n",
        "b_h1_h2 = np.zeros((10, 1))\n",
        "b_h2_o = np.zeros((7, 1))"
      ],
      "metadata": {
        "id": "3I0UWroMmcAB"
      },
      "execution_count": null,
      "outputs": []
    },
    {
      "cell_type": "code",
      "source": [
        "u0 = 0.1 # initial learning rate\n",
        "k = 0    \n",
        "t = 1e2 # tao"
      ],
      "metadata": {
        "id": "6gI6iwB6mcCj"
      },
      "execution_count": null,
      "outputs": []
    },
    {
      "cell_type": "code",
      "source": [
        "while True:\n",
        "    se = 0\n",
        "    for X, Y in zip(X_train, Y_train):\n",
        "        X = X.reshape(2, 1)\n",
        "        Y = Y.reshape(7, 1)\n",
        "\n",
        "        # Layer 1 : input -> hidden\n",
        "        h1_pre = np.dot(w_i_h1, X) + b_i_h1\n",
        "        h1 = sigmoidf(h1_pre)\n",
        "        # Layer 2 : hidden -> output\n",
        "        h2_pre = np.dot(w_h1_h2, h1) + b_h1_h2\n",
        "        h2 = sigmoidf(h2_pre)\n",
        "        # Layer 3 : hidden -> output\n",
        "        o_pre = np.dot(w_h2_o, h2) + b_h2_o\n",
        "        o = sigmoidf(o_pre)\n",
        "        \n",
        "        # error\n",
        "        se += (o - Y)**2\n",
        "        \n",
        "        # Learning rate\n",
        "        u = u0 / (1 + (k/t))\n",
        "\n",
        "        # Backpropagation : output -> hidden\n",
        "        delta_o = (o - Y)\n",
        "        w_h2_o += -u * delta_o @ np.transpose(h2)\n",
        "        b_h2_o += -u * delta_o\n",
        "       \n",
        "        # Backpropagation : output -> hidden\n",
        "        delta_h2 = np.transpose(w_h2_o) @ delta_o * (h2 * (1 - h2))\n",
        "        w_h1_h2 += -u * delta_h2 @ np.transpose(h1)\n",
        "        b_h1_h2 += -u * delta_h2\n",
        "        \n",
        "        # Backpropagation : hidden -> input\n",
        "        delta_h1 = np.transpose(w_h1_h2) @ delta_h2 * (h1 * (1 - h1))\n",
        "        w_i_h1 += -u * delta_h1 @ np.transpose(X)\n",
        "        b_i_h1 += -u * delta_h1\n",
        "        \n",
        "    k += 1\n",
        "    \n",
        "    mse = se/len(X_train)\n",
        "    print(np.average(mse))\n",
        "    if np.average(mse) <= 1e-6:\n",
        "        break"
      ],
      "metadata": {
        "colab": {
          "base_uri": "https://localhost:8080/"
        },
        "id": "w-NiklnmmcGF",
        "outputId": "2abbc281-d548-47be-acff-24a473222437"
      },
      "execution_count": null,
      "outputs": [
        {
          "output_type": "stream",
          "name": "stdout",
          "text": [
            "0.024522715794403314\n",
            "0.0031278217466006717\n",
            "0.0014734431890726445\n",
            "0.001049453949481098\n",
            "0.0007872295295801433\n",
            "0.0006379250630708303\n",
            "0.000489317598974722\n",
            "0.00044198552527361447\n",
            "0.00040136262562268365\n",
            "0.00035023565898206706\n",
            "0.0003153350315907919\n",
            "0.00024505306203213557\n",
            "0.0003234199198417193\n",
            "0.00015729580391394797\n",
            "0.00014550805300686032\n",
            "0.00018775245286976988\n",
            "0.0001370969796677767\n",
            "0.00010625055682858062\n",
            "3.8076890673414355e-05\n",
            "0.00010723552888833368\n",
            "8.865253809180835e-05\n",
            "5.190094605503241e-05\n",
            "1.8864023660210527e-05\n",
            "5.116466052222157e-05\n",
            "1.5431114105994102e-05\n",
            "8.69726887000883e-05\n",
            "0.00010453348686439331\n",
            "4.488771855375881e-06\n",
            "4.292474634452902e-06\n",
            "4.054473575491424e-06\n",
            "3.841406393711801e-06\n",
            "3.6246137050725844e-06\n",
            "3.411503910862724e-06\n",
            "3.195271894774533e-06\n",
            "2.971701154224747e-06\n",
            "2.739926723414478e-06\n",
            "2.505283378729162e-06\n",
            "2.2793224280324955e-06\n",
            "2.0746196771322508e-06\n",
            "1.8975884495742544e-06\n",
            "1.7467058982772186e-06\n",
            "1.6167168323933985e-06\n",
            "1.5027649155346927e-06\n",
            "1.4015699136575234e-06\n",
            "1.3110034637101922e-06\n",
            "1.2295461848320859e-06\n",
            "1.1560022270733492e-06\n",
            "1.0893815683110635e-06\n",
            "1.0288472981978411e-06\n",
            "9.736847994433662e-07\n"
          ]
        }
      ]
    },
    {
      "cell_type": "code",
      "source": [
        "X_test = test.iloc[:, :].values\n",
        "X_test = sc.transform(X_test)"
      ],
      "metadata": {
        "id": "t9oyTSV6seRP"
      },
      "execution_count": null,
      "outputs": []
    },
    {
      "cell_type": "code",
      "source": [
        "cont = 0\n",
        "y_pred = np.array([])\n",
        "for i in X_test:\n",
        "    # Layer 1 : input -> hidden\n",
        "    h1_pre = np.dot(w_i_h1, i.reshape(2, 1)) + b_i_h1\n",
        "    h1 = sigmoidf(h1_pre)\n",
        "    # Layer 2 : hidden -> output\n",
        "    h2_pre = np.dot(w_h1_h2, h1) + b_h1_h2\n",
        "    h2 = sigmoidf(h2_pre)\n",
        "    # Layer 3 : hidden -> output\n",
        "    o_pre = np.dot(w_h2_o, h2) + b_h2_o\n",
        "    o = sigmoidf(o_pre)\n",
        "\n",
        "    y_pred = np.append(y_pred, o)\n",
        "\n",
        "y_pred = y_pred.reshape((len(X_test), 7))"
      ],
      "metadata": {
        "id": "7sl75nYPsdM8"
      },
      "execution_count": null,
      "outputs": []
    },
    {
      "cell_type": "code",
      "source": [
        "y_pred = transform_numeric(y_pred)"
      ],
      "metadata": {
        "id": "-Ntx_nDGmlYV"
      },
      "execution_count": null,
      "outputs": []
    },
    {
      "cell_type": "code",
      "source": [
        "plt.scatter(X_train[:, 0], X_train[:, 1])\n",
        "X_set, Y_set = sc.inverse_transform(X_test), y_pred   \n",
        "for i, j in enumerate(np.unique(Y_set)):\n",
        "    plt.scatter(X_set[Y_set == j, 0], X_set[Y_set == j, 1], color = ListedColormap(('red', 'green', 'blue', 'yellow', 'grey', 'black', 'purple'))(i), label = j)\n",
        "plt.grid()"
      ],
      "metadata": {
        "colab": {
          "base_uri": "https://localhost:8080/",
          "height": 430
        },
        "id": "nL8JP55SmnQ5",
        "outputId": "022b5a5b-c54c-49ff-d9b4-9fb6801bd7c9"
      },
      "execution_count": null,
      "outputs": [
        {
          "output_type": "display_data",
          "data": {
            "text/plain": [
              "<Figure size 640x480 with 1 Axes>"
            ],
            "image/png": "[encoded data removed]"
          },
          "metadata": {}
        }
      ]
    }
  ]
}